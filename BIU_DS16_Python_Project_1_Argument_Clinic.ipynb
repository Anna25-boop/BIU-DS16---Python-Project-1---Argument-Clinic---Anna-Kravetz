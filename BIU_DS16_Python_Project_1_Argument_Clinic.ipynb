{
  "nbformat": 4,
  "nbformat_minor": 0,
  "metadata": {
    "colab": {
      "provenance": [],
      "authorship_tag": "ABX9TyPDMU27kiHdck0lgfhjxlX8",
      "include_colab_link": true
    },
    "kernelspec": {
      "name": "python3",
      "display_name": "Python 3"
    },
    "language_info": {
      "name": "python"
    }
  },
  "cells": [
    {
      "cell_type": "markdown",
      "metadata": {
        "id": "view-in-github",
        "colab_type": "text"
      },
      "source": [
        "<a href=\"https://colab.research.google.com/github/Anna25-boop/BIU-DS16---Python-Project-1---Argument-Clinic---Anna-Kravetz/blob/main/BIU_DS16_Python_Project_1_Argument_Clinic.ipynb\" target=\"_parent\"><img src=\"https://colab.research.google.com/assets/colab-badge.svg\" alt=\"Open In Colab\"/></a>"
      ]
    },
    {
      "cell_type": "markdown",
      "source": [
        "# Python Project 1 - Argument Clinic\n",
        "\n",
        "## Submission details:\n",
        "\n",
        "### Full Name: Anna Kravetz\n",
        "\n",
        "### E-mail: kravetzanna1@gmail.com\n",
        "\n",
        "### URL link to the notebook:\n",
        "https://colab.research.google.com/drive/1mBBsdIxly4gDHI5gFgYKDKue9Zyhz08g?authuser=1#scrollTo=E35faNFBMl51"
      ],
      "metadata": {
        "id": "E35faNFBMl51"
      }
    },
    {
      "cell_type": "code",
      "execution_count": 143,
      "metadata": {
        "id": "EGM_t0PcD05N"
      },
      "outputs": [],
      "source": [
        "# Important libraries to use in the project:\n",
        "import re\n",
        "import random\n",
        "import time"
      ]
    },
    {
      "cell_type": "code",
      "source": [
        "# 1:\n",
        "def checking_negative_words(customer_sentence):\n",
        "    ''' This function checks if we have negative words in the sentence\n",
        "    if so, it will give the appropriate answer for each negative word and sentence'''\n",
        "    negative_key_words = [\"no\", \"not\", \"never\"]\n",
        "    negative_sentence = \"no i'm not!\"\n",
        "    negative_answer = str()\n",
        "    negative_result = 0\n",
        "    for negative_word in negative_key_words:\n",
        "        # In this loop I am going to run all the negative words in order to check\n",
        "        # that it is in the sentence and give the answer accordingly.\n",
        "        if negative_word in customer_sentence.split():\n",
        "            negative_result = 1\n",
        "            split_customer_sentence = customer_sentence.split()\n",
        "            if negative_sentence == customer_sentence:\n",
        "                negative_answer = f\"Argument Clinic: Well... I'm sorry to disappoint you but you may be wrong...\\n\"\n",
        "            elif negative_word ==  negative_key_words[0]:\n",
        "                indx_of_negative_word = split_customer_sentence.index(negative_key_words[0])\n",
        "                negative_answer = f\"Argument Clinic: What do you mean where is no {split_customer_sentence[indx_of_negative_word+1]}?\\n\"\n",
        "            elif negative_word ==  negative_key_words[1]:\n",
        "                indx_of_negative_word = split_customer_sentence.index(negative_key_words[1])\n",
        "                negative_answer = f\"Argument Clinic: What do you mean where is no {split_customer_sentence[indx_of_negative_word+1]}?\\n\"\n",
        "            elif negative_word ==  negative_key_words[2]:\n",
        "                negative_answer = f\"Argument Clinic: Never say never! something can always happend by mistake.\\n\"\n",
        "    return negative_answer, negative_result\n"
      ],
      "metadata": {
        "id": "g3YWfc4ycZ1G"
      },
      "execution_count": 144,
      "outputs": []
    },
    {
      "cell_type": "code",
      "source": [
        "# 2:\n",
        "def checking_positive_words(customer_sentence):\n",
        "    ''' This function checks if we have positive words in the sentence\n",
        "    if so, it will give the appropriate answer for each positive word '''\n",
        "    positive_key_words = [\"yes\", \"I agree\"]\n",
        "    positive_answer = str()\n",
        "    positive_result = 0\n",
        "    for positive_word in positive_key_words:\n",
        "        # In this loop I'm going to run through all the positive words in order\n",
        "        # to check that it's in the sentence and give the answer accordingly.\n",
        "        if positive_word in customer_sentence.split():\n",
        "            positive_result = 1\n",
        "            split_customer_sentence = customer_sentence.split()\n",
        "            if positive_word ==  positive_key_words[0]:\n",
        "                indx_of_positive_word = split_customer_sentence.index(positive_key_words[0])\n",
        "                positive_answer = f\"Argument Clinic: Is it really, or are we just agreeing to disagree?\\n\"\n",
        "            elif positive_word ==  positive_key_words[1]:\n",
        "                indx_of_positive_word = split_customer_sentence.index(positive_key_words[1])\n",
        "                positive_answer = f\"Argument Clinic: I'm glad we agree on this subject, can we find another topic to argue about?\\n\"\n",
        "    return positive_answer, positive_result\n"
      ],
      "metadata": {
        "id": "JfRQ0il5yv_s"
      },
      "execution_count": 145,
      "outputs": []
    },
    {
      "cell_type": "code",
      "source": [
        "# 3:\n",
        "def checking_if_question(customer_sentence):\n",
        "    ''' This function checks if we have question words in the sentence\n",
        "    if so, it will give the appropriate answer for each question word:\n",
        "    question words '''\n",
        "\n",
        "    question_key_words = [\"why\", \"how\", \"when\", \"what\", \"who\", \"is\", \"isn't\", \"are\",\n",
        "                          \"aren't\", \"do\", \"don't\", \"does\", \"doesn't\", \"did\", \"didn't\"]\n",
        "    question_mark = \"?\"\n",
        "    questions_answer = f\"Argument Clinic: Are you asking me a question?\"\n",
        "    question_result = 0\n",
        "    for question_word in question_key_words:\n",
        "        # In this loop I am going to check if there is a question mark at the end\n",
        "        # of the sentence and if there is a question word, If one condition is not met,\n",
        "        # I will ask the user to ask again to make sure it is indeed a question,\n",
        "        # if not, I will issue an appropriate answer to the user according to the question he asked.\n",
        "        if (question_mark in customer_sentence.split()[-1]) and (question_word in customer_sentence.split()):\n",
        "            question_result = 1\n",
        "            split_customer_sentence = customer_sentence.split()\n",
        "            if question_word ==  question_key_words[0]:\n",
        "                questions_answer = f\"Argument Clinic: Because this is fun?\\n\"\n",
        "            if question_word ==  question_key_words[1]:\n",
        "                questions_answer = f\"Argument Clinic: How? with a lot of motivation =]\\n\"\n",
        "            if question_word ==  question_key_words[2]:\n",
        "                questions_answer = f\"Argument Clinic: Actually? never!\\n\"\n",
        "            if question_word ==  question_key_words[3]:\n",
        "                questions_answer = f\"Argument Clinic: Nothing, What are you doing?\\n\"\n",
        "            if question_word ==  question_key_words[4]:\n",
        "                questions_answer = f\"Argument Clinic: Is this your buisness?\\n\"\n",
        "            if question_word == question_key_words[5]:\n",
        "                questions_answer = f\"Argument Clinic: It isn't?\\n\"\n",
        "            if question_word == question_key_words[6]:\n",
        "                questions_answer = f\"Argument Clinic: It is?\\n\"\n",
        "            if question_word ==  question_key_words[7]:\n",
        "                indx_of_question_word = split_customer_sentence.index(question_word)\n",
        "                questions_answer = f\"Argument Clinic: Aren't you {split_customer_sentence[indx_of_question_word+2]} that?\\n\"\n",
        "            if question_word ==  question_key_words[8]:\n",
        "                indx_of_question_word = split_customer_sentence.index(question_word)\n",
        "                questions_answer = f\"Argument Clinic: Are you {split_customer_sentence[indx_of_question_word+2]} that?\\n\"\n",
        "            if question_word ==  question_key_words[9]:\n",
        "                indx_of_question_word = split_customer_sentence.index(question_word)\n",
        "                questions_answer = f\"Argument Clinic: Don't you {split_customer_sentence[indx_of_question_word+2]}?\\n\"\n",
        "            if question_word ==  question_key_words[10]:\n",
        "                indx_of_question_word = split_customer_sentence.index(question_word)\n",
        "                questions_answer = f\"Argument Clinic: Do you {split_customer_sentence[indx_of_question_word+2]}?\\n\"\n",
        "            if question_word ==  question_key_words[11]:\n",
        "                indx_of_question_word = split_customer_sentence.index(question_word)\n",
        "                questions_answer = f\"Argument Clinic: Doesn't {split_customer_sentence[indx_of_question_word+1]} really {split_customer_sentence[indx_of_question_word+2]} that?\\n\"\n",
        "            if question_word ==  question_key_words[12]:\n",
        "                indx_of_question_word = split_customer_sentence.index(question_word)\n",
        "                questions_answer = f\"Argument Clinic: Does {split_customer_sentence[indx_of_question_word+1]} really {split_customer_sentence[indx_of_question_word+2]} that?\\n\"\n",
        "            if question_word ==  question_key_words[13]:\n",
        "                indx_of_question_word = split_customer_sentence.index(question_word)\n",
        "                questions_answer = f\"Argument Clinic: Didn't {split_customer_sentence[indx_of_question_word+1]} expect that?\\n\"\n",
        "            if question_word ==  question_key_words[14]:\n",
        "                indx_of_question_word = split_customer_sentence.index(question_word)\n",
        "                questions_answer = f\"Argument Clinic: Did {split_customer_sentence[indx_of_question_word+1]} expect that?\\n\"\n",
        "    return questions_answer, question_result"
      ],
      "metadata": {
        "id": "imzQr6U1szwJ"
      },
      "execution_count": 146,
      "outputs": []
    },
    {
      "cell_type": "code",
      "source": [
        "# 4:\n",
        "def repeated_phrases(customer_sentence, customer_sentences):\n",
        "    ''' checks if the customer repeated the same sentence multipule times\n",
        "    if so, the system will give an appropriate answer '''\n",
        "    repeated_phrases_answer = str()\n",
        "    rep_phrases_result = 0\n",
        "    if customer_sentence in customer_sentences:\n",
        "        # In this loop I check if there are any questions/sentences that repeat themselves.\n",
        "        # If so we will receive answers accordingly.\n",
        "        rep_phrases_result = 1\n",
        "        if customer_sentence  == \"yes, it is\":\n",
        "            repeated_phrases_answer = f\"Argument Clinic: No, it isn't\\n\"\n",
        "        elif customer_sentence  == \"no, it isn't\":\n",
        "            repeated_phrases_answer = f\"Argument Clinic: Yes, it is\\n\"\n",
        "        else:\n",
        "            repeated_phrases_answer = f\"Argument Clinic: Well, are you sure about that?\\n\"\n",
        "    return repeated_phrases_answer, rep_phrases_result"
      ],
      "metadata": {
        "id": "GuA2sY7640ma"
      },
      "execution_count": 147,
      "outputs": []
    },
    {
      "cell_type": "code",
      "source": [
        "# 5:\n",
        "def personal_statements(customer_sentence):\n",
        "    ''' This function checks if we have a personal statment in the sentence\n",
        "    when if so, it will return the right answer\n",
        "    personal statements words'''\n",
        "    personal_word = \"i\"\n",
        "    personal_answer = str()\n",
        "    personal_result = 0\n",
        "    if personal_word in customer_sentence.split():\n",
        "        # In this loop I check if there is a related word, if so, we will give the correct answer.\n",
        "        personal_result = 1\n",
        "        split_customer_sentence = customer_sentence.split()\n",
        "        indx_of_personal_word = split_customer_sentence.index(personal_word)\n",
        "        personal_answer = f\"Argument Clinic: Are you sure about what you {split_customer_sentence[indx_of_personal_word+1]}?\\n\"\n",
        "    return personal_answer, personal_result"
      ],
      "metadata": {
        "id": "J03kDHzeru3E"
      },
      "execution_count": 148,
      "outputs": []
    },
    {
      "cell_type": "code",
      "source": [
        "# 6:\n",
        "def checking_key_words(customer_sentence):\n",
        "    ''' This function wants to check if where are key words,\n",
        "    if so, we will get the expected answer from the system '''\n",
        "    key_words = [\"impossible\", \"always\", \"never\"]\n",
        "    key_answer = str()\n",
        "    key_result = 0\n",
        "    for key_word in key_words:\n",
        "         # In this loop I check if there is a related word, if so, we will give the correct answer.\n",
        "        if key_word in customer_sentence:\n",
        "            key_result = 1\n",
        "            split_customer_sentence = customer_sentence.split()\n",
        "            indx_of_positive_word = split_customer_sentence.index(key_word)\n",
        "            key_answer = f\"Argument Clinic: {split_customer_sentence[indx_of_positive_word]}? Isn't life full of exceptions?\\n\"\n",
        "    return key_answer, key_result"
      ],
      "metadata": {
        "id": "zPNVIlAi0wXR"
      },
      "execution_count": 149,
      "outputs": []
    },
    {
      "cell_type": "code",
      "source": [
        "# 7:\n",
        "def checking_len_sentence(customer_sentence):\n",
        "    ''' This function wants to check if the sentence is long enough, if not the system\n",
        "    will warn you and will ask you to put another sentence '''\n",
        "    split_customer_sentence = customer_sentence.split()\n",
        "    len_warning = str()\n",
        "    min_sentence_len = 3\n",
        "    max_sentence_len = 11\n",
        "    len_result = 0\n",
        "    while (len(split_customer_sentence)<min_sentence_len) or (len(split_customer_sentence)>max_sentence_len):\n",
        "        # In this loop we will define edge cases along the sentence that the user enters,\n",
        "        # if the sentence is too short or too long, the clinic will ask for a new sentence/question.\n",
        "         len_warning = f\"Argument Clinic: Your sentence is too short, please try again!\"\n",
        "         len_result = 1\n",
        "         break\n",
        "    return len_warning, len_result"
      ],
      "metadata": {
        "id": "47BCFsEIc8om"
      },
      "execution_count": 150,
      "outputs": []
    },
    {
      "cell_type": "code",
      "source": [
        "# 8:\n",
        "def checking_numerical_characters(customer_sentence):\n",
        "    ''' This function wants to check if the sentence have numbers in\n",
        "    it, when the function will return a warning that you can't use\n",
        "    numbers in the sentence '''\n",
        "    numerical_warning = str()\n",
        "    numerical_result = 0\n",
        "    while (re.search(\"[a-z][0-9][a-z]\", customer_sentence)) or (re.search(\"[a-z][0-9]\", customer_sentence)) or (re.search(\"[0-9][a-z]\", customer_sentence)):\n",
        "        # In this loop we will define edge cases for the words in the sentence that the user enters,\n",
        "        # if the word has a number, the clinic will ask for a new sentence/question.\n",
        "        numerical_warning = f\"Argument Clinic: Your words in the sentence has numeric values, please try again!\"\n",
        "        numerical_result = 1\n",
        "        break\n",
        "    return numerical_warning, numerical_result\n"
      ],
      "metadata": {
        "id": "GYZshS8Bt4Z1"
      },
      "execution_count": 151,
      "outputs": []
    },
    {
      "cell_type": "code",
      "source": [
        "# 9:\n",
        "def checking_payment(customer_sentence):\n",
        "    ''' This function checks if we have payment relaited words and if so,\n",
        "    it will give the right random answer for it'''\n",
        "    payment_result = 0\n",
        "    payment_answer = str()\n",
        "    if (\"paid\" in customer_sentence) or (\"money\" in customer_sentence):\n",
        "        # In this loop we check for \"special words\", if the sentence contains one of these words,\n",
        "        # the clinic will give special answers to the user randomly.\n",
        "        payment_result = 1\n",
        "        payment_answers = [\n",
        "            \"Argument Clinic: This argument is too intense. I believe you should pay more for that!\",\n",
        "            \"Argument Clinic: I believe we as a staff of this clinic deserve more money than you paid us!\",\n",
        "            \"Argument Clinic: Money can't buy everything, not even happiness\"\n",
        "        ]\n",
        "        payment_answer = random.choice(payment_answers)\n",
        "    return payment_answer, payment_result"
      ],
      "metadata": {
        "id": "OpfPaBpbjfPv"
      },
      "execution_count": 152,
      "outputs": []
    },
    {
      "cell_type": "code",
      "source": [
        "# Here the customer enters his sentence into the system\n",
        "def main():\n",
        "    '''This function includes all the other functions for for checking all\n",
        "    the arguments and questions and give the right answers.'''\n",
        "    initial_code_time = time.time()\n",
        "    customer_sentences = []\n",
        "    customer_sentence = []\n",
        "    print(\"The Argument Clinic is open! Let's start!\\n\")\n",
        "    minutes = input(\"How much time in minutes would you like to argue? \")\n",
        "\n",
        "    while (customer_sentence!=\"goodbye\") or (customer_sentence!=\"stop\") or (minutes>(elapsed_code_time/60)):\n",
        "        # In the main function we will run all the previous functions and check the conditions,\n",
        "        # it is enough that one condition is met and we will receive one answer according to this condition,\n",
        "        # in addition to that, in this function we count the interaction time.\n",
        "        # If the interaction time we set has passed, or we have used stop words we have defined, we will exit the system.\n",
        "        customer_sentence = input(\"Please enter your argument: \")\n",
        "        customer_sentence_lower_characters = customer_sentence.lower()\n",
        "        [numerical_warning, numerical_result] = checking_numerical_characters(customer_sentence)\n",
        "        [length_warning, length_result] = checking_len_sentence(customer_sentence)\n",
        "        [payment_answer, payment_result] = checking_payment(customer_sentence_lower_characters)\n",
        "        [negative_answer, negative_result] = checking_negative_words(customer_sentence_lower_characters)\n",
        "        [positive_answer, positive_result] = checking_positive_words(customer_sentence_lower_characters)\n",
        "        [question_answer, question_result] = checking_if_question(customer_sentence_lower_characters)\n",
        "        [rep_phrases_answer, rep_phrases_result] = repeated_phrases(customer_sentence_lower_characters, customer_sentences)\n",
        "        [personal_answer, personal_result] = personal_statements(customer_sentence_lower_characters)\n",
        "        [key_words_answer, key_words_result] = checking_key_words(customer_sentence_lower_characters)\n",
        "\n",
        "        if len(customer_sentences) > int(minutes) * 2:  # Assuming 2 exchanges per minute\n",
        "            break\n",
        "        elif (numerical_result == 1):\n",
        "            print(numerical_warning)\n",
        "        elif (length_result == 1):\n",
        "            print(length_warning)\n",
        "        elif (payment_result == 1):\n",
        "            print(payment_answer)\n",
        "        elif (negative_result == 1):\n",
        "            print(negative_answer)\n",
        "        elif (positive_result == 1):\n",
        "            print(positive_answer)\n",
        "        elif (question_result == 1):\n",
        "            print(question_answer)\n",
        "        elif (rep_phrases_result == 1):\n",
        "            print(rep_phrases_answer)\n",
        "        elif (personal_result == 1):\n",
        "            print(personal_answer)\n",
        "        elif (key_words_result == 1):\n",
        "            print(key_words_answer)\n",
        "        else:\n",
        "            another_options = [\n",
        "             \"Argument Clinic: Why should I care about that? \",\n",
        "             \"Argument Clinic: I'm not sure that I can rely on your opinion.\",\n",
        "             \"Argument Clinic: Please choose another topic, you make it too easy for me...\"\n",
        "\n",
        "            ]\n",
        "            print(random.choice(another_options))\n",
        "\n",
        "        customer_sentences.append(customer_sentence_lower_characters)\n",
        "\n",
        "    else:\n",
        "        customer_sentences.remove(customer_sentence)\n",
        "        message = f\"You exited the argument clinic, have a nice day!\"\n",
        "    # get the current time in seconds since the epoch\n",
        "    ending_code_time = time.time()\n",
        "    elapsed_code_time = ending_code_time - initial_code_time\n",
        "\n",
        "    print('Execution time:', elapsed_code_time, 'seconds')\n",
        "\n",
        "main()"
      ],
      "metadata": {
        "colab": {
          "base_uri": "https://localhost:8080/"
        },
        "id": "oro5mt8s-KV6",
        "outputId": "55800d20-2a0e-43b5-a0d3-730e5c82ec5d"
      },
      "execution_count": 153,
      "outputs": [
        {
          "output_type": "stream",
          "name": "stdout",
          "text": [
            "The Argument Clinic is open! Let's start!\n",
            "\n",
            "How much time in minutes would you like to argue? 1\n",
            "Please enter your argument: Have you seen this movie?\n",
            "Argument Clinic: Why should I care about that? \n",
            "Please enter your argument: Why you say so?\n",
            "Argument Clinic: Because this is fun?\n",
            "\n",
            "Please enter your argument: I can't agree with you\n",
            "Argument Clinic: Are you sure about what you can't?\n",
            "\n",
            "Please enter your argument: Are you saying Iwm dumb?\n",
            "Execution time: 67.70293021202087 seconds\n"
          ]
        }
      ]
    }
  ]
}